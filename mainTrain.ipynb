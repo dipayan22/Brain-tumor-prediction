{
 "cells": [
  {
   "cell_type": "code",
   "execution_count": 15,
   "metadata": {},
   "outputs": [],
   "source": [
    "import cv2\n",
    "import os\n",
    "from PIL import Image\n",
    "import numpy as np\n",
    "from sklearn.model_selection import train_test_split\n",
    "from tensorflow.keras.utils import normalize\n",
    "from tensorflow.keras.models import Sequential\n",
    "from tensorflow.keras.layers import Conv2D,MaxPooling2D,Activation,Dropout,Flatten,Dense\n",
    "\n",
    "\n",
    "from tensorflow.keras.models import load_model"
   ]
  },
  {
   "cell_type": "code",
   "execution_count": 2,
   "metadata": {},
   "outputs": [],
   "source": [
    "path_directory='Dataset/'\n",
    "\n",
    "no_tumor_image=os.listdir(path_directory+'no/')\n",
    "yes_tumor_image=os.listdir(path_directory+'yes/')\n"
   ]
  },
  {
   "cell_type": "code",
   "execution_count": 3,
   "metadata": {},
   "outputs": [],
   "source": [
    "dataset=[]\n",
    "label=[]"
   ]
  },
  {
   "cell_type": "code",
   "execution_count": 4,
   "metadata": {},
   "outputs": [],
   "source": [
    "for i,image_name in enumerate(no_tumor_image):\n",
    "    if (image_name.split('.')[1]=='jpg'):\n",
    "        image=cv2.imread(path_directory+'no/'+image_name)\n",
    "        image=Image.fromarray(image,'RGB')\n",
    "        image=image.resize((224,224))\n",
    "        dataset.append(np.array(image))\n",
    "        label.append(0)\n",
    "\n",
    "\n",
    "for i,image_name in enumerate(yes_tumor_image):\n",
    "    if (image_name.split('.')[1]=='jpg'):\n",
    "        image=cv2.imread(path_directory+'yes/'+image_name)\n",
    "        image=Image.fromarray(image,'RGB')\n",
    "        image=image.resize((224,224))\n",
    "        dataset.append(np.array(image))\n",
    "        label.append(1)\n"
   ]
  },
  {
   "cell_type": "code",
   "execution_count": 5,
   "metadata": {},
   "outputs": [],
   "source": [
    "dataset=np.array(dataset)\n",
    "label=np.array(label)\n",
    "\n"
   ]
  },
  {
   "cell_type": "code",
   "execution_count": 6,
   "metadata": {},
   "outputs": [],
   "source": [
    "X_train,X_test,y_train,y_test=train_test_split(dataset,label,test_size=0.2,random_state=42)\n"
   ]
  },
  {
   "cell_type": "code",
   "execution_count": 9,
   "metadata": {},
   "outputs": [],
   "source": [
    "X_train=normalize(X_train,axis=1)\n",
    "X_test=normalize(X_test,axis=1)\n"
   ]
  },
  {
   "cell_type": "markdown",
   "metadata": {},
   "source": [
    "Model Building"
   ]
  },
  {
   "cell_type": "code",
   "execution_count": 12,
   "metadata": {},
   "outputs": [],
   "source": [
    "model=Sequential()\n",
    "\n",
    "model.add(Conv2D(32,(3,3),input_shape=(224,224,3)))\n",
    "model.add(Activation('relu'))\n",
    "model.add(MaxPooling2D(pool_size=(2,2)))\n",
    "\n",
    "model.add(Conv2D(32,(3,3),kernel_initializer='he_uniform'))\n",
    "model.add(Activation('relu'))\n",
    "model.add(MaxPooling2D(pool_size=(2,2)))\n",
    "\n",
    "model.add(Conv2D(32,(3,3),kernel_initializer='he_uniform'))\n",
    "model.add(Activation('relu'))\n",
    "model.add(MaxPooling2D(pool_size=(2,2)))\n",
    "\n",
    "model.add(Flatten())\n",
    "model.add(Dense(64,activation='relu'))\n",
    "\n",
    "model.add(Dropout(.50))\n",
    "model.add(Dense(1,activation='sigmoid'))\n",
    "\n",
    "\n",
    "model.compile(loss='binary_crossentropy',optimizer='adam',metrics=['accuracy'])"
   ]
  },
  {
   "cell_type": "code",
   "execution_count": 13,
   "metadata": {},
   "outputs": [
    {
     "name": "stdout",
     "output_type": "stream",
     "text": [
      "Epoch 1/10\n",
      "75/75 [==============================] - 74s 958ms/step - loss: 0.5308 - accuracy: 0.7362 - val_loss: 0.3824 - val_accuracy: 0.8500\n",
      "Epoch 2/10\n",
      "75/75 [==============================] - 66s 880ms/step - loss: 0.3242 - accuracy: 0.8617 - val_loss: 0.2437 - val_accuracy: 0.8933\n",
      "Epoch 3/10\n",
      "75/75 [==============================] - 66s 875ms/step - loss: 0.1774 - accuracy: 0.9342 - val_loss: 0.1977 - val_accuracy: 0.9217\n",
      "Epoch 4/10\n",
      "75/75 [==============================] - 64s 857ms/step - loss: 0.1217 - accuracy: 0.9542 - val_loss: 0.1223 - val_accuracy: 0.9650\n",
      "Epoch 5/10\n",
      "75/75 [==============================] - 65s 863ms/step - loss: 0.0726 - accuracy: 0.9746 - val_loss: 0.1245 - val_accuracy: 0.9600\n",
      "Epoch 6/10\n",
      "75/75 [==============================] - 66s 883ms/step - loss: 0.0462 - accuracy: 0.9833 - val_loss: 0.1272 - val_accuracy: 0.9750\n",
      "Epoch 7/10\n",
      "75/75 [==============================] - 65s 863ms/step - loss: 0.0387 - accuracy: 0.9879 - val_loss: 0.1628 - val_accuracy: 0.9567\n",
      "Epoch 8/10\n",
      "75/75 [==============================] - 65s 862ms/step - loss: 0.0340 - accuracy: 0.9862 - val_loss: 0.1038 - val_accuracy: 0.9733\n",
      "Epoch 9/10\n",
      "75/75 [==============================] - 66s 876ms/step - loss: 0.0279 - accuracy: 0.9887 - val_loss: 0.1486 - val_accuracy: 0.9767\n",
      "Epoch 10/10\n",
      "75/75 [==============================] - 64s 851ms/step - loss: 0.0218 - accuracy: 0.9937 - val_loss: 0.1254 - val_accuracy: 0.9817\n"
     ]
    },
    {
     "data": {
      "text/plain": [
       "<keras.src.callbacks.History at 0x265c23ca950>"
      ]
     },
     "execution_count": 13,
     "metadata": {},
     "output_type": "execute_result"
    }
   ],
   "source": [
    "model.fit(X_train,y_train,batch_size=32,verbose=1,epochs=10,validation_data=(X_test,y_test),shuffle=False)"
   ]
  },
  {
   "cell_type": "code",
   "execution_count": 14,
   "metadata": {},
   "outputs": [
    {
     "name": "stderr",
     "output_type": "stream",
     "text": [
      "c:\\Users\\Hp\\AppData\\Local\\Programs\\Python\\Python311\\Lib\\site-packages\\keras\\src\\engine\\training.py:3000: UserWarning: You are saving your model as an HDF5 file via `model.save()`. This file format is considered legacy. We recommend using instead the native Keras format, e.g. `model.save('my_model.keras')`.\n",
      "  saving_api.save_model(\n"
     ]
    }
   ],
   "source": [
    "model.save('BrainTumor.h5')"
   ]
  },
  {
   "cell_type": "code",
   "execution_count": 16,
   "metadata": {},
   "outputs": [],
   "source": [
    "model=load_model('BrainTumor.h5')"
   ]
  },
  {
   "cell_type": "code",
   "execution_count": 43,
   "metadata": {},
   "outputs": [],
   "source": [
    "image=cv2.imread('D:\\Deep Learing Practice\\CNN projects\\Brain tumor detection\\CT-scan-of-brain-tumor4.png')\n",
    "img=Image.fromarray(image)\n",
    "img=img.resize((224,224))\n",
    "img=np.array(img)\n",
    "\n",
    "input_image=np.expand_dims(img,axis=0)"
   ]
  },
  {
   "cell_type": "code",
   "execution_count": 44,
   "metadata": {},
   "outputs": [
    {
     "name": "stdout",
     "output_type": "stream",
     "text": [
      "1/1 [==============================] - 0s 18ms/step\n"
     ]
    },
    {
     "data": {
      "text/plain": [
       "array([[1.]], dtype=float32)"
      ]
     },
     "execution_count": 44,
     "metadata": {},
     "output_type": "execute_result"
    }
   ],
   "source": [
    "model.predict(input_image)"
   ]
  },
  {
   "cell_type": "code",
   "execution_count": null,
   "metadata": {},
   "outputs": [],
   "source": []
  }
 ],
 "metadata": {
  "kernelspec": {
   "display_name": "Python 3",
   "language": "python",
   "name": "python3"
  },
  "language_info": {
   "codemirror_mode": {
    "name": "ipython",
    "version": 3
   },
   "file_extension": ".py",
   "mimetype": "text/x-python",
   "name": "python",
   "nbconvert_exporter": "python",
   "pygments_lexer": "ipython3",
   "version": "3.11.3"
  },
  "orig_nbformat": 4
 },
 "nbformat": 4,
 "nbformat_minor": 2
}
